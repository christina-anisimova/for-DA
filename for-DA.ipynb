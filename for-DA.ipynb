{
 "cells": [
  {
   "cell_type": "code",
   "execution_count": null,
   "id": "77aabb39",
   "metadata": {},
   "outputs": [],
   "source": [
    "# 3. Попробуйте ответить на вопросы:\n",
    "# Сколько вакансий, которые вам нравятся?\n",
    "# За какие периоды эти вакансии?\n",
    "# Сколько вакансий с такими позициями, на которых вы работаете?\n",
    "# Сколько вакансий для аналитика данных?\n",
    "# Сколько вакансий для аналитика данных с использованием Python?\n",
    "\n",
    "\n",
    "!pip install wget\n",
    "!wget https://raw.githubusercontent.com/da-python/python-for-data-analytics/main/Lesson1/hometask/vacancy.csv.zip\n",
    "!unzip vacancy.csv.zip\n",
    "\n",
    "import csv\n",
    "import sys\n",
    "from collections import Counter, defaultdict\n",
    "\n",
    "file_path = 'vacancy.csv'\n",
    "vacs = list(csv.DictReader(open(file_path)))\n",
    "\n",
    "#Вакансии, которые нравятся\n",
    "[x.get('vactitle') for x in vacs if x.get('vactitle').lower(). find('аналитик') > -1]\n",
    "\n",
    "# сколько вакансий, которые нравятся\n",
    "len([x.get('vactitle') for x in vacs if x.get('vactitle').lower(). find('аналитик') > -1])\n",
    "\n",
    "# за какой период вакансии, которые нравятся (вывела уникальные значения)\n",
    "set([(x.get('created_at'), x.get('updated_at')) for x in vacs if x.get('vactitle').lower(). find('аналитик') > -1])\n",
    "\n",
    "# Сколько вакансий для аналитика данных?\n",
    "len([x.get('vactitle') for x in vacs if x.get('vactitle').lower(). find('аналитик данных') > -1])\n",
    "\n",
    "# Сколько вакансий с такими позициями, на которых вы работаете?\n",
    "len([x.get('vactitle') for x in vacs if x.get('vactitle').lower(). find('главный специалист') > -1])\n",
    "\n",
    "# Сколько вакансий для аналитика данных с использованием Python?\n",
    "\n",
    "len([(x.get('vactitle'), x.get('vacdescription')) for x in vacs if (x.get('vactitle').lower(). find('аналитик данных') > -1)\n",
    "                                                                if (x.get('vacdescription')).lower(). find('python')])\n",
    "\n"
   ]
  }
 ],
 "metadata": {
  "kernelspec": {
   "display_name": "Python 3 (ipykernel)",
   "language": "python",
   "name": "python3"
  },
  "language_info": {
   "codemirror_mode": {
    "name": "ipython",
    "version": 3
   },
   "file_extension": ".py",
   "mimetype": "text/x-python",
   "name": "python",
   "nbconvert_exporter": "python",
   "pygments_lexer": "ipython3",
   "version": "3.9.12"
  }
 },
 "nbformat": 4,
 "nbformat_minor": 5
}
